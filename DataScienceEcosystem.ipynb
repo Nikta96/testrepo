{
 "cells": [
  {
   "cell_type": "markdown",
   "id": "fed31cc6-03c8-4472-8d7a-a7ac274549d6",
   "metadata": {},
   "source": [
    "# Data Science Tools and Ecosystem"
   ]
  },
  {
   "cell_type": "markdown",
   "id": "3c57a28e-1680-451f-bd3e-3450b8af45c6",
   "metadata": {},
   "source": [
    "# In this notebook, Data Science Tools and Ecosystem are summarized."
   ]
  },
  {
   "cell_type": "markdown",
   "id": "7e67fb48-4a7e-46c5-9e6d-d062a085e4c7",
   "metadata": {},
   "source": [
    "### Some of the popular languages that Data Scientists use are:\n",
    "1.R\n",
    "2.Python\n",
    "3.Sql\n",
    "4.Java"
   ]
  },
  {
   "cell_type": "markdown",
   "id": "6a8ec15c-b485-4ff4-b9ae-a087e153d3ef",
   "metadata": {},
   "source": [
    "# Execute it as a markdown cell\n",
    "**Objective:**  \n",
    "- First R\n",
    "- Second Python\n",
    "- Third Sql\n",
    "- Fourth Java"
   ]
  },
  {
   "cell_type": "markdown",
   "id": "742b8e40-bd9f-417c-b914-e0029b5188fc",
   "metadata": {},
   "source": [
    "## Some of the commonly used libraries used by Data Scientists include:\n",
    "1.NumPy\n",
    "2.Pandas\n",
    "3.Seaborn"
   ]
  },
  {
   "cell_type": "markdown",
   "id": "658cda86-6bca-4972-9add-efa72d90eba3",
   "metadata": {},
   "source": [
    "## Execute as a markdown cell\n",
    "\n",
    "| Data Science Tools | \n",
    "| -------------| \n",
    "| MySQL  | \n",
    "| PostgreSQL| \n",
    "| MongoDB | "
   ]
  },
  {
   "cell_type": "markdown",
   "id": "06479ae5-532e-4eb4-bf31-b218f05277d8",
   "metadata": {},
   "source": [
    "## Execute as a markdown cell \n",
    "\n",
    "### Below are a few examples of evaluating arithmetic expressions in Python\n",
    "2+2"
   ]
  },
  {
   "cell_type": "code",
   "execution_count": 1,
   "id": "3654781d-7542-4d92-b37b-e813be126472",
   "metadata": {},
   "outputs": [
    {
     "data": {
      "text/plain": [
       "17"
      ]
     },
     "execution_count": 1,
     "metadata": {},
     "output_type": "execute_result"
    }
   ],
   "source": [
    "# This a simple arithmetic expression to mutiply then add integers\n",
    "(3*4)+5"
   ]
  },
  {
   "cell_type": "code",
   "execution_count": 14,
   "id": "cd74d86e-e76d-46c6-8f91-8a502c250c82",
   "metadata": {},
   "outputs": [
    {
     "data": {
      "text/plain": [
       "3.3333333333333335"
      ]
     },
     "execution_count": 14,
     "metadata": {},
     "output_type": "execute_result"
    }
   ],
   "source": [
    "#This will convert 200 minutes to hours by diving by 60\n",
    "200/60"
   ]
  },
  {
   "cell_type": "markdown",
   "id": "1f2ca088-e1ad-4f07-b33a-85079f52b977",
   "metadata": {},
   "source": [
    "## Author\n",
    "Nikta "
   ]
  },
  {
   "cell_type": "code",
   "execution_count": null,
   "id": "898274c8-95dd-492b-a113-9f5966bc3e0c",
   "metadata": {},
   "outputs": [],
   "source": []
  }
 ],
 "metadata": {
  "kernelspec": {
   "display_name": "Python 3 (ipykernel)",
   "language": "python",
   "name": "python3"
  },
  "language_info": {
   "codemirror_mode": {
    "name": "ipython",
    "version": 3
   },
   "file_extension": ".py",
   "mimetype": "text/x-python",
   "name": "python",
   "nbconvert_exporter": "python",
   "pygments_lexer": "ipython3",
   "version": "3.12.8"
  }
 },
 "nbformat": 4,
 "nbformat_minor": 5
}
